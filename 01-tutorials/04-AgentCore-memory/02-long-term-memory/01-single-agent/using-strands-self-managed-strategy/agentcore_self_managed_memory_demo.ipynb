{
 "cells": [
  {
   "cell_type": "markdown",
   "metadata": {},
   "source": [
    "# AgentCore Self-Managed Memory Strategy Demo\n",
    "\n",
    "This notebook demonstrates how to set up and use Amazon Bedrock AgentCore self-managed memory strategies with boto3. The self-managed memory strategy allows you to create a custom pipeline for memory extraction and consolidation, triggered by conversation events.\n",
    "\n",
    "## How it works\n",
    "\n",
    "1. Configure triggers: Define trigger conditions (message count, idle timeout, token count) that invoke your pipeline based on short-term memory events\n",
    "2. Receive notifications: AgentCore publishes notifications to your SNS topic when trigger conditions are met\n",
    "3. Process payload: AgentCore delivers conversation data to your S3 bucket\n",
    "4. Extract & store memory records: Your custom pipeline retrieves the payload and processes memories\n\nFor detailed information about self-managed memory strategies, see the [official AWS documentation](https://docs.aws.amazon.com/bedrock-agentcore/latest/devguide/memory-self-managed-strategies.html#use-self-managed-strategy).\n",
    "\n",
    "## Setup Overview\n",
    "\n",
    "This demo will:\n",
    "1. Create required AWS infrastructure (S3, SNS, SQS, Lambda, IAM roles)\n",
    "2. Create an AgentCore memory with self-managed strategy\n",
    "3. Create test events to demonstrate the memory processing pipeline\n",
    "4. Create an Agent to demonstrate retrieval and usage of stored memories\n",
    "5. Clean up resources when finished"
   ]
  },
  {
   "cell_type": "markdown",
   "metadata": {},
   "source": []
  },
  {
   "cell_type": "markdown",
   "metadata": {},
   "source": [
    "## Setup and Imports"
   ]
  },
  {
   "cell_type": "code",
   "execution_count": null,
   "metadata": {},
   "outputs": [],
   "source": [
    "!pip install -r requirements.txt --quiet"
   ]
  },
  {
   "cell_type": "code",
   "execution_count": null,
   "metadata": {},
   "outputs": [],
   "source": [
    "import boto3\n",
    "import json\n",
    "import time\n",
    "import uuid\n",
    "import os\n",
    "from datetime import datetime\n",
    "from aws_utils import AWSUtils\n",
    "\n",
    "# Configure AWS region\n",
    "region_name = 'us-east-1'  # Change to your preferred region\n",
    "aws_utils = AWSUtils(region_name=region_name)\n",
    "\n",
    "# Read Lambda function code\n",
    "with open('lambda_function.py', 'r') as f:\n",
    "    lambda_code = f.read()\n"
   ]
  },
  {
   "cell_type": "markdown",
   "metadata": {},
   "source": [
    "## Step 1: Create S3 Bucket for Payload Delivery\n",
    "\n",
    "Create an S3 bucket where AgentCore will deliver conversation payloads when trigger conditions are met."
   ]
  },
  {
   "cell_type": "code",
   "execution_count": null,
   "metadata": {},
   "outputs": [],
   "source": [
    "# Create S3 bucket with a unique name\n",
    "bucket_name = aws_utils.create_s3_bucket('agentcore-memory-payloads')\n",
    "print(f\"S3 bucket created: {bucket_name}\")"
   ]
  },
  {
   "cell_type": "markdown",
   "metadata": {},
   "source": [
    "## Step 2: Create SNS Topic for Memory Job Notifications\n",
    "\n",
    "Create an SNS topic that will receive notifications when AgentCore triggers the memory processing pipeline."
   ]
  },
  {
   "cell_type": "code",
   "execution_count": null,
   "metadata": {},
   "outputs": [],
   "source": [
    "# Create SNS topic\n",
    "sns_topic_name = f\"agentcore-memory-notifications-{int(time.time())}\"\n",
    "sns_topic_arn = aws_utils.create_sns_topic(sns_topic_name)\n",
    "print(f\"SNS topic created: {sns_topic_arn}\")"
   ]
  },
  {
   "cell_type": "markdown",
   "metadata": {},
   "source": [
    "## Step 3: Create SQS Queue with SNS Subscription\n",
    "\n",
    "Create an SQS queue that subscribes to the SNS topic. This queue will receive memory job notifications that will trigger our Lambda function."
   ]
  },
  {
   "cell_type": "code",
   "execution_count": null,
   "metadata": {},
   "outputs": [],
   "source": [
    "# Create SQS queue and subscribe to SNS topic\n",
    "queue_name = f\"agentcore-memory-queue-{int(time.time())}\"\n",
    "queue_url, queue_arn = aws_utils.create_sqs_queue_with_sns_subscription(queue_name, sns_topic_arn)\n",
    "print(f\"SQS queue created: {queue_url}\")"
   ]
  },
  {
   "cell_type": "markdown",
   "metadata": {},
   "source": [
    "## Step 4: Create IAM Roles\n",
    "\n",
    "Create two IAM roles:\n",
    "1. For AgentCore to access S3 and SNS\n",
    "2. For Lambda to access S3, SQS, and AgentCore APIs"
   ]
  },
  {
   "cell_type": "code",
   "execution_count": null,
   "metadata": {},
   "outputs": [],
   "source": [
    "# Create IAM role for AgentCore\n",
    "agentcore_role_name = f\"AgentCoreMemoryExecutionRole-{int(time.time())}\"\n",
    "agentcore_role_arn = aws_utils.create_iam_role_for_agentcore(\n",
    "    agentcore_role_name, \n",
    "    bucket_name, \n",
    "    sns_topic_arn\n",
    ")\n",
    "print(f\"AgentCore IAM role created: {agentcore_role_arn}\")\n",
    "\n",
    "# Create IAM role for Lambda\n",
    "lambda_role_name = f\"LambdaMemoryProcessingRole-{int(time.time())}\"\n",
    "lambda_role_arn = aws_utils.create_iam_role_for_lambda(\n",
    "    lambda_role_name, \n",
    "    bucket_name, \n",
    "    queue_arn\n",
    ")\n",
    "print(f\"Lambda IAM role created: {lambda_role_arn}\")"
   ]
  },
  {
   "cell_type": "markdown",
   "metadata": {},
   "source": [
    "## Step 5: Create Lambda Function for Memory Processing\n",
    "\n",
    "Create a Lambda function that will be triggered by SQS messages. This function will:\n",
    "1. Download the conversation payload from S3\n",
    "2. Extract memories using a Bedrock model\n",
    "3. Store the extracted memories back into AgentCore"
   ]
  },
  {
   "cell_type": "code",
   "execution_count": null,
   "metadata": {},
   "outputs": [],
   "source": [
    "# Create Lambda function\n",
    "function_name = f\"agentcore-memory-processor-{int(time.time())}\"\n",
    "function_arn = aws_utils.create_lambda_function(\n",
    "    function_name,\n",
    "    lambda_role_arn,\n",
    "    lambda_code\n",
    ")\n",
    "print(f\"Lambda function created: {function_arn}\")\n",
    "\n",
    "# Add SQS trigger to Lambda\n",
    "event_source_uuid = aws_utils.add_sqs_trigger_to_lambda(function_name, queue_arn)\n",
    "print(f\"SQS trigger added to Lambda: {event_source_uuid}\")"
   ]
  },
  {
   "cell_type": "markdown",
   "metadata": {},
   "source": [
    "## Step 6: Create AgentCore Memory with Self-Managed Strategy\n",
    "\n",
    "Create an AgentCore memory with a self-managed strategy configuration that uses the infrastructure we've set up."
   ]
  },
  {
   "cell_type": "code",
   "execution_count": null,
   "metadata": {},
   "outputs": [],
   "source": [
    "\n",
    "import importlib\n",
    "import aws_utils\n",
    "importlib.reload(aws_utils)\n",
    "\n",
    "# # Create a new instance of AWSUtils with the updated code\n",
    "aws_utils = aws_utils.AWSUtils(region_name=region_name)\n",
    "\n",
    "# Create memory with self-managed strategy\n",
    "memory_name = f\"SelfManageMemory{int(time.time())}\"\n",
    "memory_description = \"Demo memory using self-managed strategy\"\n",
    "\n",
    "memory_id = aws_utils.create_memory_with_self_managed_strategy(\n",
    "    memory_name=memory_name,\n",
    "    memory_description=memory_description,\n",
    "    role_arn=agentcore_role_arn,\n",
    "    sns_topic_arn=sns_topic_arn,\n",
    "    s3_bucket_name=bucket_name,\n",
    "    message_trigger_count=3,  # Trigger after 3 messages\n",
    "    token_trigger_count=500,  # Trigger after ~500 tokens\n",
    "    idle_timeout=300,         # Trigger after 5 minutes of idle time\n",
    "    historical_window_size=5  # Include 5 previous messages in context\n",
    ")\n",
    "\n",
    "print(f\"Memory created: {memory_id}\")\n",
    "# print(f\"Strategy ID: {strategy_id}\")"
   ]
  },
  {
   "cell_type": "code",
   "execution_count": null,
   "metadata": {},
   "outputs": [],
   "source": [
    "def wait_for_memory_to_get_active(memory_id):\n",
    "    response = aws_utils.agentcore_client_control.get_memory(\n",
    "        memoryId = memory_id)\n",
    "\n",
    "    while response['memory']['status'] != 'ACTIVE':\n",
    "        time.sleep(30)\n",
    "        response = aws_utils.agentcore_client_control.get_memory(\n",
    "        memoryId = memory_id)\n",
    "        print(f\"Memory creation status: {response['memory']['status']}\")\n",
    "    return response['memory']['status']\n",
    "\n",
    "wait_for_memory_to_get_active(memory_id=memory_id)"
   ]
  },
  {
   "cell_type": "markdown",
   "metadata": {},
   "source": [
    "## Step 7: Create Test Events to Trigger Memory Pipeline\n",
    "\n",
    "Now let's create some test events to trigger the self-managed memory pipeline. We'll create enough events to exceed the message trigger count."
   ]
  },
  {
   "cell_type": "code",
   "execution_count": null,
   "metadata": {},
   "outputs": [],
   "source": [
    "actor_id = \"test-user-123\""
   ]
  },
  {
   "cell_type": "code",
   "execution_count": null,
   "metadata": {},
   "outputs": [],
   "source": [
    "# Create test events\n",
    "session_id = aws_utils.create_test_events(\n",
    "    memory_id=memory_id,\n",
    "    actor_id=actor_id,\n",
    "    num_events=6  # This will exceed our message_trigger_count of 3\n",
    ")\n",
    "\n",
    "print(f\"Created test events with session ID: {session_id}\")"
   ]
  },
  {
   "cell_type": "code",
   "execution_count": null,
   "metadata": {},
   "outputs": [],
   "source": [
    "aws_utils.agentcore_client.list_events(\n",
    "    memoryId = memory_id, \n",
    "    actorId = actor_id,\n",
    "    sessionId = session_id )"
   ]
  },
  {
   "cell_type": "markdown",
   "metadata": {},
   "source": [
    "## Step 8: Wait for Memory Processing\n",
    "\n",
    "Now we need to wait for the memory processing pipeline to execute. This involves:\n",
    "1. AgentCore detecting the trigger condition (message count exceeded)\n",
    "2. AgentCore publishing a notification to SNS\n",
    "3. SNS delivering the message to SQS\n",
    "4. SQS triggering our Lambda function\n",
    "5. Lambda processing the conversation and storing memories\n",
    "\n",
    "Let's wait a bit and then check if memories were created."
   ]
  },
  {
   "cell_type": "code",
   "execution_count": null,
   "metadata": {},
   "outputs": [],
   "source": [
    "print(\"Waiting 30 seconds for memory processing to complete...\")\n",
    "time.sleep(30)"
   ]
  },
  {
   "cell_type": "markdown",
   "metadata": {},
   "source": [
    "## Step 9: Verify Memory Records\n",
    "\n",
    "Let's check if our memory pipeline created memory records by searching the memory."
   ]
  },
  {
   "cell_type": "code",
   "execution_count": null,
   "metadata": {},
   "outputs": [],
   "source": [
    "session_id"
   ]
  },
  {
   "cell_type": "code",
   "execution_count": null,
   "metadata": {},
   "outputs": [],
   "source": [
    "# List memory records\n",
    "namespace=f\"/interests/actor/{actor_id}/session/{session_id}\"\n",
    "def list_memory_records(memory_id, namespace):\n",
    "    try:\n",
    "        response = aws_utils.agentcore_client.list_memory_records(\n",
    "            memoryId=memory_id,\n",
    "            namespace=namespace\n",
    "        )\n",
    "        print(f\"Found {len(response.get('memoryRecordSummaries'))} memory records\")\n",
    "        \n",
    "        # Display the search results\n",
    "        for idx, result in enumerate(response.get(\"memoryRecordSummaries\")):\n",
    "            print(f\"Memory: {idx}\")\n",
    "            print(f\"Content: {result['content']['text']}\")\n",
    "    except Exception as e:\n",
    "        print(f\"Error searching memory: {e}\")\n",
    "list_memory_records(memory_id, namespace)"
   ]
  },
  {
   "cell_type": "markdown",
   "metadata": {},
   "source": [
    "Note that above records shows repitition of user interests as I have not added any consolidation logic. Therefore, there is repition, with the ability to provide self managed strategy I can define if I want only extraction and ingestion. It will be dependent on your business use case. "
   ]
  },
  {
   "cell_type": "code",
   "execution_count": null,
   "metadata": {},
   "outputs": [],
   "source": [
    "# Search memory records\n",
    "def retrieve_memory_records(memory_id, query, topK, namespace):\n",
    "    try:\n",
    "        response = aws_utils.agentcore_client.retrieve_memory_records(\n",
    "            memoryId=memory_id,\n",
    "            searchCriteria = {\n",
    "            'searchQuery': query,\n",
    "            'topK': topK\n",
    "        },\n",
    "            namespace=namespace\n",
    "        )\n",
    "        print(f\"Found {len(response.get('memoryRecordSummaries'))} memory records\")\n",
    "        \n",
    "        # Display the search results\n",
    "        for idx, result in enumerate(response.get('memoryRecordSummaries')):\n",
    "            print(f\"\\nMemory Record {idx + 1}:\")\n",
    "            print(f\"Content: {result['content']['text']}\")\n",
    "    except Exception as e:\n",
    "        print(f\"Error searching memory: {e}\")\n",
    "\n",
    "retrieve_memory_records(memory_id=memory_id, query=\"food choices for dinner\", topK=5, namespace=namespace)"
   ]
  },
  {
   "cell_type": "markdown",
   "metadata": {},
   "source": [
    "## Step 10: Create Additional Test Events with Different Content\n",
    "\n",
    "Let's create some more test events with different content to trigger another memory processing cycle."
   ]
  },
  {
   "cell_type": "code",
   "execution_count": null,
   "metadata": {},
   "outputs": [],
   "source": [
    "# Create custom test events\n",
    "session_id = str(uuid.uuid4())\n",
    "actor_id = \"test-user-456\"\n",
    "\n",
    "# Custom events with more specific information\n",
    "test_events = [\n",
    "    {\n",
    "        \"user\": \"I'm trying to eat healthier and have been exploring Mediterranean cuisine lately.\",\n",
    "        \"assistant\": \"That's wonderful! Mediterranean food is both delicious and nutritious. What Mediterranean dishes have you tried so far?\"\n",
    "    },\n",
    "    {\n",
    "        \"user\": \"I love Greek salads with feta cheese and olives, and I've been making homemade hummus.\",\n",
    "        \"assistant\": \"Homemade hummus is fantastic! Do you prefer it with tahini or without? And what's your favorite way to serve it?\"\n",
    "    },\n",
    "    {\n",
    "        \"user\": \"I always use tahini and like to serve it with fresh vegetables and pita bread. I'm also vegetarian, so I avoid meat.\",\n",
    "        \"assistant\": \"Being vegetarian opens up so many Mediterranean options! Have you tried making stuffed grape leaves or lentil-based dishes?\"\n",
    "    },\n",
    "    {\n",
    "        \"user\": \"Not yet, but I'd love to learn. I'm also allergic to shellfish, so I have to be careful with seafood dishes.\",\n",
    "        \"assistant\": \"Good to know about the shellfish allergy. For vegetarian Mediterranean cooking, you might enjoy making moussaka with eggplant or trying some traditional Greek bean dishes. Would you like some recipe suggestions?\"\n",
    "    }\n",
    "]\n",
    "\n",
    "# Create events\n",
    "for idx, event in enumerate(test_events):\n",
    "    try:\n",
    "        event_payload = [\n",
    "            {\n",
    "                'conversational': {\n",
    "                    'content': {\n",
    "                        'text': event['user']\n",
    "                    },\n",
    "                    'role': 'USER'\n",
    "                }\n",
    "            },\n",
    "            {\n",
    "                'conversational': {\n",
    "                    'content': {\n",
    "                        'text': event['assistant']\n",
    "                    },\n",
    "                    'role': 'ASSISTANT'\n",
    "                }\n",
    "            }\n",
    "        ]\n",
    "\n",
    "        aws_utils.agentcore_client.create_event(\n",
    "            memoryId=memory_id,\n",
    "            actorId=actor_id,\n",
    "            sessionId=session_id,\n",
    "            eventTimestamp=int(time.time()),\n",
    "            payload=event_payload,\n",
    "            clientToken=str(uuid.uuid4())\n",
    "        )\n",
    "\n",
    "        print(f\"Created event {idx+1}/{len(test_events)}\")\n",
    "        time.sleep(1)\n",
    "\n",
    "    except Exception as e:\n",
    "        print(f\"Error creating test event: {e}\")\n",
    "\n",
    "print(\"\\nWaiting 30 seconds for memory processing to complete...\")\n",
    "time.sleep(30)"
   ]
  },
  {
   "cell_type": "markdown",
   "metadata": {},
   "source": [
    "## Step 11: Search for New Memories\n",
    "\n",
    "Now let's search for the new memories related to hiking and the user's dog."
   ]
  },
  {
   "cell_type": "code",
   "execution_count": null,
   "metadata": {},
   "outputs": [],
   "source": [
    "# Search memory records for outdoor activities\n",
    "namespace=f\"/interests/actor/{actor_id}/session/{session_id}\"\n",
    "retrieve_memory_records(memory_id=memory_id, query=\"dog pets golden retriever\", topK=5, namespace=namespace)"
   ]
  },
  {
   "cell_type": "markdown",
   "metadata": {},
   "source": [
    "## Step 12: Creating the agent\n",
    "\n",
    "In this section, how to build an intelligent culinary assistant using Strands agents integrated with AgentCore Self-Managed Memory via hooks. We'll focus on long-term memory for user food preferences, dietary restrictions, and dining history to provide personalized restaurant recommendations based on previous conversations and individual tastes\n",
    "\n"
   ]
  },
  {
   "cell_type": "code",
   "execution_count": null,
   "metadata": {},
   "outputs": [],
   "source": [
    "import logging\n",
    "import json\n",
    "from typing import Dict\n",
    "from datetime import datetime\n",
    "from botocore.exceptions import ClientError\n",
    "\n",
    "# Setup logging\n",
    "logging.basicConfig(level=logging.INFO, format=\"%(asctime)s - %(levelname)s - %(message)s\")\n",
    "logger = logging.getLogger(\"customer-support\")\n",
    "\n",
    "# Import required modules\n",
    "from strands import Agent, tool\n",
    "from strands.hooks import AfterInvocationEvent, HookProvider, HookRegistry, MessageAddedEvent\n",
    "from ddgs import DDGS\n",
    "from bedrock_agentcore.memory import MemoryClient\n",
    "\n",
    "# Initialize MemoryClient\n",
    "client = MemoryClient(region_name=region_name)"
   ]
  },
  {
   "cell_type": "markdown",
   "metadata": {},
   "source": [
    "## Step 13: Create Memory Hook Provider for Culinary Assistant with Self-Managed Memory\n",
    "\n",
    "Hooks are special functions that run at specific points in an agent's execution lifecycle. Our custom hook provider leverages the self-managed memory strategy to automatically manage culinary context by:\n",
    "\n",
    "- **Retrieving relevant food preferences** from self-managed memory records\n",
    "- **Injecting contextual information** about dietary restrictions, cuisine preferences, and dining history into new queries\n",
    "- **Saving dining interactions** for future reference using batch operations\n",
    "\n",
    "This creates a seamless memory experience that:\n",
    "- Automatically retrieves your stored food preferences before processing each query\n",
    "- Provides context-aware restaurant recommendations based on your dining history\n",
    "\n",
    "The self-managed approach gives us full control over how food preferences are stored, retrieved, and used to enhance the dining recommendation experience.\n"
   ]
  },
  {
   "cell_type": "code",
   "execution_count": null,
   "metadata": {},
   "outputs": [],
   "source": [
    "# Helper function to get namespaces from memory strategies list\n",
    "def get_namespaces(mem_client: MemoryClient, memory_id: str) -> Dict:\n",
    "    \"\"\"Get namespace mapping for memory strategies.\"\"\"\n",
    "    strategies = mem_client.get_memory_strategies(memory_id)\n",
    "    return {i[\"type\"]: i[\"namespaces\"][0] for i in strategies}"
   ]
  },
  {
   "cell_type": "code",
   "execution_count": null,
   "metadata": {},
   "outputs": [],
   "source": [
    "class CulinaryAssistantMemoryHooks(HookProvider):\n",
    "    \"\"\"Memory hooks for culinary assistant agent\"\"\"\n",
    "    \n",
    "    def __init__(self, memory_id: str, namespace: str):\n",
    "        self.memory_id = memory_id\n",
    "        self.namespace = namespace\n",
    "    \n",
    "    def retrieve_food_preferences(self, event: MessageAddedEvent):\n",
    "        \"\"\"Retrieve user food preferences before processing dining query\"\"\"\n",
    "        messages = event.agent.messages\n",
    "        if messages[-1][\"role\"] == \"user\" and \"toolResult\" not in messages[-1][\"content\"][0]:\n",
    "            user_query = messages[-1][\"content\"][0][\"text\"]\n",
    "            \n",
    "            try:\n",
    "                # Retrieve food preferences using direct API\n",
    "                response = aws_utils.agentcore_client.retrieve_memory_records(\n",
    "                    memoryId=self.memory_id,\n",
    "                    searchCriteria={\n",
    "                        'searchQuery': user_query,\n",
    "                        'topK': 5\n",
    "                    },\n",
    "                    namespace=self.namespace\n",
    "                )\n",
    "                \n",
    "                memory_records = response.get('memoryRecordSummaries', [])\n",
    "                \n",
    "                if memory_records:\n",
    "                    # Format retrieved preferences\n",
    "                    preferences_context = []\n",
    "                    for record in memory_records:\n",
    "                        content = record.get('content', {}).get('text', '').strip()\n",
    "                        if content:\n",
    "                            preferences_context.append(content)\n",
    "                    \n",
    "                    # Inject food preferences into the query\n",
    "                    if preferences_context:\n",
    "                        context_text = \"\\n\".join(preferences_context)\n",
    "                        original_text = messages[-1][\"content\"][0][\"text\"]\n",
    "                        messages[-1][\"content\"][0][\"text\"] = (\n",
    "                            f\"User Food Preferences:\\n{context_text}\\n\\n{original_text}\"\n",
    "                        )\n",
    "                        logger.info(f\"Retrieved {len(preferences_context)} food preference records\")\n",
    "                \n",
    "            except Exception as e:\n",
    "                logger.error(f\"Failed to retrieve food preferences: {e}\")\n",
    "    \n",
    "    def save_dining_interaction(self, event: AfterInvocationEvent):\n",
    "        \"\"\"Save dining recommendation interaction after agent response\"\"\"\n",
    "        try:\n",
    "            messages = event.agent.messages\n",
    "            if len(messages) >= 2 and messages[-1][\"role\"] == \"assistant\":\n",
    "                # Get last user query and agent response\n",
    "                user_query = None\n",
    "                agent_response = None\n",
    "                \n",
    "                for msg in reversed(messages):\n",
    "                    if msg[\"role\"] == \"assistant\" and not agent_response:\n",
    "                        agent_response = msg[\"content\"][0][\"text\"]\n",
    "                    elif msg[\"role\"] == \"user\" and not user_query and \"toolResult\" not in msg[\"content\"][0]:\n",
    "                        user_query = msg[\"content\"][0][\"text\"]\n",
    "                        break\n",
    "                \n",
    "                if user_query and agent_response:\n",
    "                    # Save the interaction using direct API\n",
    "                    interaction_content = f\"Query: {user_query}\\nRecommendation: {agent_response}\"\n",
    "                    \n",
    "                    # You would use create_memory_record API here\n",
    "                    # aws_utils.agentcore_client.create_memory_record(...)\n",
    "                    \n",
    "                    logger.info(\"Saved dining interaction to memory\")\n",
    "                    \n",
    "        except Exception as e:\n",
    "            logger.error(f\"Failed to save dining interaction: {e}\")\n",
    "    \n",
    "    def register_hooks(self, registry: HookRegistry) -> None:\n",
    "        \"\"\"Register culinary assistant memory hooks\"\"\"\n",
    "        registry.add_callback(MessageAddedEvent, self.retrieve_food_preferences)\n",
    "        registry.add_callback(AfterInvocationEvent, self.save_dining_interaction)\n",
    "        logger.info(\"Culinary assistant memory hooks registered\")"
   ]
  },
  {
   "cell_type": "markdown",
   "metadata": {},
   "source": [
    "## Step 14: Create Culinary assistant Agent"
   ]
  },
  {
   "cell_type": "code",
   "execution_count": null,
   "metadata": {},
   "outputs": [],
   "source": [
    "# Create memory hooks for culinary assistant\n",
    "print(memory_id)\n",
    "culinary_hooks = CulinaryAssistantMemoryHooks(memory_id, namespace)\n",
    "\n",
    "# Create culinary assistant agent\n",
    "culinary_agent = Agent(\n",
    "    hooks=[culinary_hooks],\n",
    "    model=\"us.anthropic.claude-3-7-sonnet-20250219-v1:0\",\n",
    "    tools=[],  # Update these tools as needed\n",
    "    state={\"actor_id\": actor_id, \"session_id\": session_id},\n",
    "    system_prompt=\"\"\"You are the Culinary Assistant, a sophisticated restaurant recommendation assistant.\n",
    "\n",
    "PURPOSE:\n",
    "- Help users discover restaurants based on their preferences\n",
    "- Remember user preferences throughout the conversation\n",
    "- Provide personalized dining recommendations\n",
    "\n",
    "You have access to a Memory tool that enables you to:\n",
    "- Store user preferences (dietary restrictions, favorite cuisines, budget preferences, etc.)\n",
    "- Retrieve previously stored information to personalize recommendations\"\"\"\n",
    ")\n",
    "\n",
    "print(\"✅ Culinary assistant agent created with memory capabilities\")"
   ]
  },
  {
   "cell_type": "markdown",
   "metadata": {},
   "source": [
    "#### Agent is ready to go. \n",
    "\n",
    "### Lets test Culinary Assistant Scenarios"
   ]
  },
  {
   "cell_type": "code",
   "execution_count": null,
   "metadata": {},
   "outputs": [],
   "source": [
    "response1 = culinary_agent(\"what are the food choices for Dinner?\")\n",
    "print(f\"Support Agent: {response1}\")"
   ]
  },
  {
   "cell_type": "markdown",
   "metadata": {},
   "source": [
    "## Step 15: Clean Up Resources\n",
    "\n",
    "Now let's clean up all the resources we created to avoid incurring unnecessary costs."
   ]
  },
  {
   "cell_type": "code",
   "execution_count": null,
   "metadata": {},
   "outputs": [],
   "source": [
    "# Clean up all resources\n",
    "import importlib\n",
    "import aws_utils\n",
    "importlib.reload(aws_utils)\n",
    "\n",
    "# # Create a new instance of AWSUtils with the updated code\n",
    "aws_utils = aws_utils.AWSUtils(region_name=region_name)\n",
    "\n",
    "# # Clean up resources with auto-discovery\n",
    "aws_utils.cleanup_resources(discover_resources=True)\n",
    "print(\"All resources have been cleaned up!\")"
   ]
  },
  {
   "cell_type": "markdown",
   "metadata": {},
   "source": [
    "## Summary\n",
    "\n",
    "In this notebook, we've demonstrated how to:\n",
    "\n",
    "1. Set up the AWS infrastructure needed for self-managed memory\n",
    "2. Create an AgentCore memory with a self-managed strategy\n",
    "3. Configure trigger conditions for memory processing\n",
    "4. Implement a Lambda-based memory processing pipeline\n",
    "5. Test the memory system with sample conversations\n",
    "6. Search for extracted memories\n",
    "7. Created culinary agent to test self managed memory\n",
    "8. Clean up all resources\n",
    "\n",
    "The self-managed memory strategy gives you complete control over memory extraction, allowing you to build custom pipelines that fit your specific use case."
   ]
  }
 ],
 "metadata": {
  "kernelspec": {
   "display_name": "Python 3 (ipykernel)",
   "language": "python",
   "name": "python3"
  },
  "language_info": {
   "codemirror_mode": {
    "name": "ipython",
    "version": 3
   },
   "file_extension": ".py",
   "mimetype": "text/x-python",
   "name": "python",
   "nbconvert_exporter": "python",
   "pygments_lexer": "ipython3",
   "version": "3.13.7"
  }
 },
 "nbformat": 4,
 "nbformat_minor": 4
}
